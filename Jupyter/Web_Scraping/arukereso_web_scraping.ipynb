{
 "cells": [
  {
   "cell_type": "code",
   "execution_count": 56,
   "metadata": {},
   "outputs": [],
   "source": [
    "# Import Libraries:\n",
    "from bs4 import BeautifulSoup\n",
    "import requests\n",
    "import time\n",
    "import datetime\n",
    "# smtplib -> For sending emails:\n",
    "import smtplib"
   ]
  },
  {
   "cell_type": "code",
   "execution_count": 57,
   "metadata": {},
   "outputs": [
    {
     "name": "stdout",
     "output_type": "stream",
     "text": [
      "-----------------------------------------------\n",
      "Title: LG UltraGear 24GN60R-B\n",
      "Price: 54590\n"
     ]
    },
    {
     "data": {
      "text/plain": [
       "int"
      ]
     },
     "execution_count": 57,
     "metadata": {},
     "output_type": "execute_result"
    }
   ],
   "source": [
    "# Connect to website:\n",
    "# https://www.amazon.com/Funny-Data-Systems-Business-Analyst/dp/B07FNW9FGJ\n",
    "\n",
    "# If you click on something:\n",
    "# https://www.amazon.com/Funny-Data-Systems-Business-Analyst/dp/B07FNW9FGJ?customId=B0752XJYNL&customizationToken=MC_Assembly_1%23B0752XJYNL&th=1\n",
    "url = \"https://www.arukereso.hu/monitor-c3126/\"\n",
    "\n",
    "# Get these informations from here: https://httpbin.org/get\n",
    "my_headers = {\"User-Agent\": \"Mozilla/5.0 (Windows NT 10.0; Win64; x64) AppleWebKit/537.36 (KHTML, like Gecko) Chrome/120.0.0.0 Safari/537.36\"}\n",
    "\n",
    "page = requests.get(url, headers = my_headers)\n",
    "\n",
    "soup1 = BeautifulSoup(page.content, 'html.parser')\n",
    "\n",
    "soup2 = BeautifulSoup(soup1.prettify(), 'html.parser')\n",
    "\n",
    "# print(soup2)\n",
    "\n",
    "print(\"-----------------------------------------------\")\n",
    "\n",
    "# https://stackoverflow.com/questions/57462202/attributeerror-nonetype-object-has-no-attribute-get-text\n",
    "# # <div class=\"price\">\n",
    "# #              54 590 Ft-tól\n",
    "# #             </div>\n",
    "title = soup2.find(class_='name ulined-link').find('a').get_text()\n",
    "# <a data-akl2pp=\"1\" data-dl-si-ref=\"div#dl-si-876166542\" href=\"https://www.arukereso.hu/monitor-c3126/lg/ultragear-24gn60r-b-p876166542/\" onclick=\"_akq.push(['ak.google.trackEvent','Category','Jump to product page','Product name']);return true;\" title=\"LG UltraGear 24GN60R-B Monitor\">\n",
    "#               LG UltraGear 24GN60R-B Monitor\n",
    "#              </a>\n",
    "price = soup2.find(class_='price').get_text()\n",
    "\n",
    "title = title.strip()[:-8]\n",
    "price = int(price.replace(' ', '').strip()[:-6])\n",
    "\n",
    "\n",
    "print(f\"Title: {title}\")\n",
    "print(f\"Price: {price}\")\n",
    "\n",
    "type(price)\n",
    "# ------------------------------------------- All the elements (Monitors) and Prices -----------------------------------------------------------\n",
    "# Find all elements with class \"name ulined-link\"\n",
    "# monitor_elements = soup2.find_all(class_='name ulined-link')\n",
    "\n",
    "# for monitor in monitor_elements:\n",
    "#     # Extract the name\n",
    "#     name_element = monitor.find('a')\n",
    "#     name = name_element.get_text(strip=True)[:-8] if name_element else \"Name not found\"\n",
    "\n",
    "#     # Extract the price\n",
    "#     price_element = monitor.find_next(class_='price')\n",
    "#     price = price_element.get_text(strip=True)[:-6] if price_element else \"Price not found\"\n",
    "\n",
    "#     print(\"Name:\", name)\n",
    "#     print(\"Price:\", price)\n",
    "#     print(\"-----------------------------------------------\")\n",
    "# ------------------------------------------------------------------------------------------------------\n",
    "\n",
    "\n",
    "\n"
   ]
  },
  {
   "cell_type": "code",
   "execution_count": 58,
   "metadata": {},
   "outputs": [
    {
     "name": "stdout",
     "output_type": "stream",
     "text": [
      "2024-02-04\n"
     ]
    }
   ],
   "source": [
    "import datetime\n",
    "today = datetime.date.today()\n",
    "print(today)"
   ]
  },
  {
   "cell_type": "code",
   "execution_count": 59,
   "metadata": {},
   "outputs": [],
   "source": [
    "import csv\n",
    "import os\n",
    "\n",
    "my_header = ['Title', 'Price', 'Date']\n",
    "data = [title, price, today]\n",
    "\n",
    "# type(data)\n",
    "\n",
    "# Create CSV:\n",
    "# Save to a file_path:\n",
    "directory = 'C:/Users/Adam/Documents/Data_Analyst_Projects/Python/Jupyter/Web_Scraping/files/'\n",
    "file_name = 'ArukeresoWebScraping'\n",
    "file_type_csv = '.csv'\n",
    "file_type_xlsx = '.xlsx'\n",
    "\n",
    "\n",
    "\n",
    "def file_dir(directory_dir, file_name_dir, file_type_dir):\n",
    "   file_path = os.path.join(directory_dir,  f\"{file_name_dir}{file_type_dir}\")\n",
    "   return file_path\n",
    "   \n",
    "file_save_csv = file_dir(directory, file_name, file_type_csv)\n",
    "with open(file_save_csv, 'w', newline='', encoding='utf-8') as f: # w -> write | r -> read | a+ -> append\n",
    "   writer =  csv.writer(f)\n",
    "   writer.writerow(my_header)\n",
    "   writer.writerow(data)\n",
    "   \n",
    "   \n",
    "# Create EXCEL:\n",
    "import openpyxl\n",
    "\n",
    "# Create a new Workbook and add a Worksheet\n",
    "workbook = openpyxl.Workbook()\n",
    "sheet = workbook.active\n",
    "\n",
    "# Write the header to the first row\n",
    "sheet.append(my_header)\n",
    "\n",
    "# Write the data to the second row\n",
    "sheet.append(data)\n",
    "\n",
    "file_save_xlsx = file_dir(directory, file_name, file_type_xlsx)\n",
    "workbook.save(file_save_xlsx)"
   ]
  },
  {
   "cell_type": "code",
   "execution_count": 60,
   "metadata": {},
   "outputs": [
    {
     "name": "stdout",
     "output_type": "stream",
     "text": [
      "                    Title  Price        Date\n",
      "0  LG UltraGear 24GN60R-B  54590  2024-02-04\n"
     ]
    }
   ],
   "source": [
    "import pandas as pd\n",
    "df = pd.read_csv('C:/Users/Adam/Documents/Data_Analyst_Projects/Python/Jupyter/Web_Scraping/files/ArukeresoWebScraping.csv')\n",
    "print(df)\n"
   ]
  },
  {
   "cell_type": "code",
   "execution_count": 61,
   "metadata": {},
   "outputs": [],
   "source": [
    "# Append Data to this previously created CSV/XLSX:\n",
    "with open(file_save_csv, 'a+', newline='', encoding='utf-8') as f: # a+ -> append | w -> write | r -> read\n",
    "   writer =  csv.writer(f)\n",
    "   writer.writerow(data)"
   ]
  },
  {
   "cell_type": "code",
   "execution_count": 105,
   "metadata": {},
   "outputs": [],
   "source": [
    "def send_mail():\n",
    "    # server = smtplib.SMTP_SSL('smtp.gmail.com', 465)\n",
    "    # server.ehlo()\n",
    "    # # server.starttls()\n",
    "    # server.ehlo()\n",
    "    \n",
    "    # email = os.getenv('EMAIL_ADDRESS')\n",
    "    # password = os.getenv('EMAIL_PASSWORD')\n",
    "    \n",
    "    # server.login(email, password)\n",
    "    \n",
    "    # subject = \"Price fall\"\n",
    "    # body = \"Price fall\"\n",
    "    \n",
    "    # msg = f\"Subject: {subject}\\n\\n{body}\"\n",
    "    \n",
    "    # server.sendmail(\n",
    "    #     email,\n",
    "    #     email,\n",
    "    #     msg\n",
    "    # )\n",
    "    \n",
    "    import smtplib\n",
    "    from email.mime.text import MIMEText\n",
    "    from email.mime.multipart import MIMEMultipart\n",
    "\n",
    "    # Set your email credentials and details\n",
    "    sender_email = os.getenv('EMAIL_ADDRESS')\n",
    "    receiver_email = os.getenv('EMAIL_ADDRESS')\n",
    "    password = os.getenv('EMAIL_PASSWORD')\n",
    "\n",
    "    # Create the email message\n",
    "    subject = \"Subject of the email\"\n",
    "    body = \"This is the body of the email.\"\n",
    "\n",
    "    message = MIMEMultipart()\n",
    "    message[\"From\"] = sender_email\n",
    "    message[\"To\"] = receiver_email\n",
    "    message[\"Subject\"] = subject\n",
    "    message.attach(MIMEText(body, \"plain\"))\n",
    "\n",
    "    # Connect to the SMTP server and send the email\n",
    "    with smtplib.SMTP(\"smtp.gmail.com\", 587) as server:\n",
    "        server.starttls()\n",
    "        server.login(sender_email, password)\n",
    "        text = message.as_string()\n",
    "        server.sendmail(sender_email, receiver_email, text)\n",
    "\n",
    "    print(\"Email sent successfully!\")\n"
   ]
  },
  {
   "cell_type": "code",
   "execution_count": 106,
   "metadata": {},
   "outputs": [],
   "source": [
    "# ----------------------------------------------- Automate this, to append data to the end: -----------------------------------------------\n",
    "def check_price():\n",
    "    url = \"https://www.arukereso.hu/monitor-c3126/\"\n",
    "\n",
    "    # Get these informations from here: https://httpbin.org/get\n",
    "    my_headers = {\"User-Agent\": \"Mozilla/5.0 (Windows NT 10.0; Win64; x64) AppleWebKit/537.36 (KHTML, like Gecko) Chrome/120.0.0.0 Safari/537.36\"}\n",
    "\n",
    "    page = requests.get(url, headers = my_headers)\n",
    "\n",
    "    soup1 = BeautifulSoup(page.content, 'html.parser')\n",
    "\n",
    "    soup2 = BeautifulSoup(soup1.prettify(), 'html.parser')\n",
    "\n",
    "    # print(soup2)\n",
    "\n",
    "    print(\"-----------------------------------------------\")\n",
    "\n",
    "    # https://stackoverflow.com/questions/57462202/attributeerror-nonetype-object-has-no-attribute-get-text\n",
    "    # # <div class=\"price\">\n",
    "    # #              54 590 Ft-tól\n",
    "    # #             </div>\n",
    "    title = soup2.find(class_='name ulined-link').find('a').get_text()\n",
    "    # <a data-akl2pp=\"1\" data-dl-si-ref=\"div#dl-si-876166542\" href=\"https://www.arukereso.hu/monitor-c3126/lg/ultragear-24gn60r-b-p876166542/\" onclick=\"_akq.push(['ak.google.trackEvent','Category','Jump to product page','Product name']);return true;\" title=\"LG UltraGear 24GN60R-B Monitor\">\n",
    "    #               LG UltraGear 24GN60R-B Monitor\n",
    "    #              </a>\n",
    "    price = soup2.find(class_='price').get_text()\n",
    "\n",
    "    title = title.strip()[:-8]\n",
    "    price = int(price.replace(' ', '').strip()[:-6])\n",
    "    \n",
    "    import datetime\n",
    "    today = datetime.date.today()\n",
    "    print(today)\n",
    "    \n",
    "    # my_header = ['Title', 'Price', 'Date']\n",
    "    data = [title, price, today]\n",
    "    \n",
    "    # Append Data to this previously created CSV/XLSX:\n",
    "    with open(file_save_csv, 'a+', newline='', encoding='utf-8') as f: # a+ -> append | w -> write | r -> read\n",
    "        writer =  csv.writer(f)\n",
    "        writer.writerow(data)\n",
    "    \n",
    "    if int(price) < 55000:\n",
    "        print(price)\n",
    "        send_mail()"
   ]
  },
  {
   "cell_type": "code",
   "execution_count": 107,
   "metadata": {},
   "outputs": [
    {
     "name": "stdout",
     "output_type": "stream",
     "text": [
      "-----------------------------------------------\n",
      "2024-02-04\n",
      "54590\n"
     ]
    },
    {
     "ename": "SMTPAuthenticationError",
     "evalue": "(535, b'5.7.8 Username and Password not accepted. For more information, go to\\n5.7.8  https://support.google.com/mail/?p=BadCredentials q5-20020a056402248500b0055f48b49d05sm2899328eda.69 - gsmtp')",
     "output_type": "error",
     "traceback": [
      "\u001b[1;31m---------------------------------------------------------------------------\u001b[0m",
      "\u001b[1;31mSMTPAuthenticationError\u001b[0m                   Traceback (most recent call last)",
      "Cell \u001b[1;32mIn[107], line 12\u001b[0m\n\u001b[0;32m     10\u001b[0m \u001b[38;5;66;03m# Every 5 seconds, check the price\u001b[39;00m\n\u001b[0;32m     11\u001b[0m \u001b[38;5;28;01mwhile\u001b[39;00m \u001b[38;5;28;01mTrue\u001b[39;00m:\n\u001b[1;32m---> 12\u001b[0m     \u001b[43mcheck_price\u001b[49m\u001b[43m(\u001b[49m\u001b[43m)\u001b[49m\n\u001b[0;32m     14\u001b[0m     \u001b[38;5;66;03m# Calculate the elapsed time\u001b[39;00m\n\u001b[0;32m     15\u001b[0m     elapsed_time \u001b[38;5;241m=\u001b[39m time\u001b[38;5;241m.\u001b[39mtime() \u001b[38;5;241m-\u001b[39m start_time\n",
      "Cell \u001b[1;32mIn[106], line 45\u001b[0m, in \u001b[0;36mcheck_price\u001b[1;34m()\u001b[0m\n\u001b[0;32m     43\u001b[0m \u001b[38;5;28;01mif\u001b[39;00m \u001b[38;5;28mint\u001b[39m(price) \u001b[38;5;241m<\u001b[39m \u001b[38;5;241m55000\u001b[39m:\n\u001b[0;32m     44\u001b[0m     \u001b[38;5;28mprint\u001b[39m(price)\n\u001b[1;32m---> 45\u001b[0m     \u001b[43msend_mail\u001b[49m\u001b[43m(\u001b[49m\u001b[43m)\u001b[49m\n",
      "Cell \u001b[1;32mIn[105], line 45\u001b[0m, in \u001b[0;36msend_mail\u001b[1;34m()\u001b[0m\n\u001b[0;32m     43\u001b[0m \u001b[38;5;28;01mwith\u001b[39;00m smtplib\u001b[38;5;241m.\u001b[39mSMTP(\u001b[38;5;124m\"\u001b[39m\u001b[38;5;124msmtp.gmail.com\u001b[39m\u001b[38;5;124m\"\u001b[39m, \u001b[38;5;241m587\u001b[39m) \u001b[38;5;28;01mas\u001b[39;00m server:\n\u001b[0;32m     44\u001b[0m     server\u001b[38;5;241m.\u001b[39mstarttls()\n\u001b[1;32m---> 45\u001b[0m     \u001b[43mserver\u001b[49m\u001b[38;5;241;43m.\u001b[39;49m\u001b[43mlogin\u001b[49m\u001b[43m(\u001b[49m\u001b[43msender_email\u001b[49m\u001b[43m,\u001b[49m\u001b[43m \u001b[49m\u001b[43mpassword\u001b[49m\u001b[43m)\u001b[49m\n\u001b[0;32m     46\u001b[0m     text \u001b[38;5;241m=\u001b[39m message\u001b[38;5;241m.\u001b[39mas_string()\n\u001b[0;32m     47\u001b[0m     server\u001b[38;5;241m.\u001b[39msendmail(sender_email, receiver_email, text)\n",
      "File \u001b[1;32mc:\\Users\\Adam\\AppData\\Local\\Programs\\Python\\Python312\\Lib\\smtplib.py:750\u001b[0m, in \u001b[0;36mSMTP.login\u001b[1;34m(self, user, password, initial_response_ok)\u001b[0m\n\u001b[0;32m    747\u001b[0m         last_exception \u001b[38;5;241m=\u001b[39m e\n\u001b[0;32m    749\u001b[0m \u001b[38;5;66;03m# We could not login successfully.  Return result of last attempt.\u001b[39;00m\n\u001b[1;32m--> 750\u001b[0m \u001b[38;5;28;01mraise\u001b[39;00m last_exception\n",
      "File \u001b[1;32mc:\\Users\\Adam\\AppData\\Local\\Programs\\Python\\Python312\\Lib\\smtplib.py:739\u001b[0m, in \u001b[0;36mSMTP.login\u001b[1;34m(self, user, password, initial_response_ok)\u001b[0m\n\u001b[0;32m    737\u001b[0m method_name \u001b[38;5;241m=\u001b[39m \u001b[38;5;124m'\u001b[39m\u001b[38;5;124mauth_\u001b[39m\u001b[38;5;124m'\u001b[39m \u001b[38;5;241m+\u001b[39m authmethod\u001b[38;5;241m.\u001b[39mlower()\u001b[38;5;241m.\u001b[39mreplace(\u001b[38;5;124m'\u001b[39m\u001b[38;5;124m-\u001b[39m\u001b[38;5;124m'\u001b[39m, \u001b[38;5;124m'\u001b[39m\u001b[38;5;124m_\u001b[39m\u001b[38;5;124m'\u001b[39m)\n\u001b[0;32m    738\u001b[0m \u001b[38;5;28;01mtry\u001b[39;00m:\n\u001b[1;32m--> 739\u001b[0m     (code, resp) \u001b[38;5;241m=\u001b[39m \u001b[38;5;28;43mself\u001b[39;49m\u001b[38;5;241;43m.\u001b[39;49m\u001b[43mauth\u001b[49m\u001b[43m(\u001b[49m\n\u001b[0;32m    740\u001b[0m \u001b[43m        \u001b[49m\u001b[43mauthmethod\u001b[49m\u001b[43m,\u001b[49m\u001b[43m \u001b[49m\u001b[38;5;28;43mgetattr\u001b[39;49m\u001b[43m(\u001b[49m\u001b[38;5;28;43mself\u001b[39;49m\u001b[43m,\u001b[49m\u001b[43m \u001b[49m\u001b[43mmethod_name\u001b[49m\u001b[43m)\u001b[49m\u001b[43m,\u001b[49m\n\u001b[0;32m    741\u001b[0m \u001b[43m        \u001b[49m\u001b[43minitial_response_ok\u001b[49m\u001b[38;5;241;43m=\u001b[39;49m\u001b[43minitial_response_ok\u001b[49m\u001b[43m)\u001b[49m\n\u001b[0;32m    742\u001b[0m     \u001b[38;5;66;03m# 235 == 'Authentication successful'\u001b[39;00m\n\u001b[0;32m    743\u001b[0m     \u001b[38;5;66;03m# 503 == 'Error: already authenticated'\u001b[39;00m\n\u001b[0;32m    744\u001b[0m     \u001b[38;5;28;01mif\u001b[39;00m code \u001b[38;5;129;01min\u001b[39;00m (\u001b[38;5;241m235\u001b[39m, \u001b[38;5;241m503\u001b[39m):\n",
      "File \u001b[1;32mc:\\Users\\Adam\\AppData\\Local\\Programs\\Python\\Python312\\Lib\\smtplib.py:662\u001b[0m, in \u001b[0;36mSMTP.auth\u001b[1;34m(self, mechanism, authobject, initial_response_ok)\u001b[0m\n\u001b[0;32m    660\u001b[0m \u001b[38;5;28;01mif\u001b[39;00m code \u001b[38;5;129;01min\u001b[39;00m (\u001b[38;5;241m235\u001b[39m, \u001b[38;5;241m503\u001b[39m):\n\u001b[0;32m    661\u001b[0m     \u001b[38;5;28;01mreturn\u001b[39;00m (code, resp)\n\u001b[1;32m--> 662\u001b[0m \u001b[38;5;28;01mraise\u001b[39;00m SMTPAuthenticationError(code, resp)\n",
      "\u001b[1;31mSMTPAuthenticationError\u001b[0m: (535, b'5.7.8 Username and Password not accepted. For more information, go to\\n5.7.8  https://support.google.com/mail/?p=BadCredentials q5-20020a056402248500b0055f48b49d05sm2899328eda.69 - gsmtp')"
     ]
    }
   ],
   "source": [
    "# Every 5 secs it is going to run through this entire process [check_price()]\n",
    "import time\n",
    "\n",
    "# Set the total duration in seconds\n",
    "total_duration = 30\n",
    "\n",
    "# Get the current time\n",
    "start_time = time.time()\n",
    "\n",
    "# Every 5 seconds, check the price\n",
    "while True:\n",
    "    check_price()\n",
    "\n",
    "    # Calculate the elapsed time\n",
    "    elapsed_time = time.time() - start_time\n",
    "\n",
    "    # Break out of the loop if the total duration is reached\n",
    "    if elapsed_time >= total_duration:\n",
    "        break\n",
    "\n",
    "    # Sleep for 5 seconds before the next iteration\n",
    "    time.sleep(5)"
   ]
  },
  {
   "cell_type": "code",
   "execution_count": 86,
   "metadata": {},
   "outputs": [
    {
     "name": "stdout",
     "output_type": "stream",
     "text": [
      "                     Title  Price        Date\n",
      "0   LG UltraGear 24GN60R-B  54590  2024-02-04\n",
      "1   LG UltraGear 24GN60R-B  54590  2024-02-04\n",
      "2   LG UltraGear 24GN60R-B  54590  2024-02-04\n",
      "3   LG UltraGear 24GN60R-B  54590  2024-02-04\n",
      "4   LG UltraGear 24GN60R-B  54590  2024-02-04\n",
      "5   LG UltraGear 24GN60R-B  54590  2024-02-04\n",
      "6   LG UltraGear 24GN60R-B  54590  2024-02-04\n",
      "7   LG UltraGear 24GN60R-B  54590  2024-02-04\n",
      "8   LG UltraGear 24GN60R-B  54590  2024-02-04\n",
      "9   LG UltraGear 24GN60R-B  54590  2024-02-04\n",
      "10  LG UltraGear 24GN60R-B  54590  2024-02-04\n",
      "11  LG UltraGear 24GN60R-B  54590  2024-02-04\n",
      "12  LG UltraGear 24GN60R-B  54590  2024-02-04\n",
      "13  LG UltraGear 24GN60R-B  54590  2024-02-04\n",
      "14  LG UltraGear 24GN60R-B  54590  2024-02-04\n",
      "15  LG UltraGear 24GN60R-B  54590  2024-02-04\n"
     ]
    }
   ],
   "source": [
    "import pandas as pd\n",
    "df = pd.read_csv('C:/Users/Adam/Documents/Data_Analyst_Projects/Python/Jupyter/Web_Scraping/files/ArukeresoWebScraping.csv')\n",
    "print(df)"
   ]
  },
  {
   "cell_type": "code",
   "execution_count": null,
   "metadata": {},
   "outputs": [],
   "source": []
  }
 ],
 "metadata": {
  "kernelspec": {
   "display_name": "Python 3",
   "language": "python",
   "name": "python3"
  },
  "language_info": {
   "codemirror_mode": {
    "name": "ipython",
    "version": 3
   },
   "file_extension": ".py",
   "mimetype": "text/x-python",
   "name": "python",
   "nbconvert_exporter": "python",
   "pygments_lexer": "ipython3",
   "version": "3.12.1"
  }
 },
 "nbformat": 4,
 "nbformat_minor": 2
}
