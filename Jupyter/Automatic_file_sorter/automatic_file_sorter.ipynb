{
 "cells": [
  {
   "cell_type": "code",
   "execution_count": 56,
   "metadata": {},
   "outputs": [
    {
     "name": "stdout",
     "output_type": "stream",
     "text": [
      "C:/Users/Adam/Documents/Data_Analyst_Projects/Python/Jupyter/Automatic_file_sorter/files/\n",
      "C:/Users/Adam/Documents/Data_Analyst_Projects/Python/Jupyter/Automatic_file_sorter/\n",
      "['excel2.xlsx', 'pic3.jpg', 'pic4.png', 'text2.txt']\n",
      "Folder path: C:/Users/Adam/Documents/Data_Analyst_Projects/Python/Jupyter/Automatic_file_sorter/xlsx_files already exists\n",
      "Folder path: C:/Users/Adam/Documents/Data_Analyst_Projects/Python/Jupyter/Automatic_file_sorter/png_files already exists\n",
      "Folder path: C:/Users/Adam/Documents/Data_Analyst_Projects/Python/Jupyter/Automatic_file_sorter/jpg_files already exists\n",
      "Folder path: C:/Users/Adam/Documents/Data_Analyst_Projects/Python/Jupyter/Automatic_file_sorter/text_files already exists\n"
     ]
    }
   ],
   "source": [
    "import os, shutil\n",
    "\n",
    "path = \"C:/Users/Adam/Documents/Data_Analyst_Projects/Python/Jupyter/Automatic_file_sorter/files/\"\n",
    "path2 = \"C:/Users/Adam/Documents/Data_Analyst_Projects/Python/Jupyter/Automatic_file_sorter/\"\n",
    "\n",
    "# Or you can change the \\ to /\n",
    "print(path)\n",
    "print(path2)\n",
    "\n",
    "file_name = os.listdir(path)\n",
    "print(file_name)\n",
    "\n",
    "folder_names = ['xlsx_files', 'png_files', 'jpg_files', 'text_files']\n",
    "\n",
    "for folder_name in folder_names:\n",
    "    folder_path = os.path.join(path2, folder_name)\n",
    "\n",
    "    if not os.path.exists(folder_path):\n",
    "        os.makedirs(folder_path)\n",
    "        print(f\"Folder path: {folder_path} created\")\n",
    "    else:\n",
    "        print(f\"Folder path: {folder_path} already exists\")\n",
    "        \n",
    "# Move files in folders from \"files\" to \"Specific folders\"       \n",
    "for file in file_name:\n",
    "    if \".xlsx\" in file and not os.path.exists(path2 + \"xlsx_files/\" + file):\n",
    "        shutil.move(path + file, path2 + \"xlsx_files/\" + file)\n",
    "    elif \".png\" in file and not os.path.exists(path2 + \"png_files/\" + file):\n",
    "        shutil.move(path + file, path2 + \"png_files/\" + file)\n",
    "    elif \".jpg\" in file and not os.path.exists(path2 + \"jpg_files/\" + file):\n",
    "        shutil.move(path + file, path2 + \"jpg_files/\" + file)\n",
    "    elif \".txt\" in file and not os.path.exists(path2 + \"text_files/\" + file):\n",
    "        shutil.move(path + file, path2 + \"text_files/\" + file)\n",
    "    else:\n",
    "        print(\"There are no files to move\")\n"
   ]
  },
  {
   "cell_type": "code",
   "execution_count": null,
   "metadata": {},
   "outputs": [],
   "source": []
  }
 ],
 "metadata": {
  "kernelspec": {
   "display_name": "Python 3 (ipykernel)",
   "language": "python",
   "name": "python3"
  },
  "language_info": {
   "codemirror_mode": {
    "name": "ipython",
    "version": 3
   },
   "file_extension": ".py",
   "mimetype": "text/x-python",
   "name": "python",
   "nbconvert_exporter": "python",
   "pygments_lexer": "ipython3",
   "version": "3.12.2"
  }
 },
 "nbformat": 4,
 "nbformat_minor": 4
}
