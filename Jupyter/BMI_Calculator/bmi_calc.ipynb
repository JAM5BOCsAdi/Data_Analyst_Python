{
 "cells": [
  {
   "cell_type": "code",
   "execution_count": 26,
   "metadata": {},
   "outputs": [
    {
     "name": "stdout",
     "output_type": "stream",
     "text": [
      "BMI:0.0026309431125667803\n",
      "98\n",
      "193\n"
     ]
    }
   ],
   "source": [
    "name = str(input(\"Enter your name:\"))\n",
    "weight = int(input(\"Enter your weight in kg: \"))\n",
    "height = int(input(\"Enter your height in cm: \"))\n",
    "\n",
    "BMI = (weight) / (height**2)\n",
    "\n",
    "print(\"BMI:\" + str(BMI))\n",
    "print(weight)\n",
    "print(height)"
   ]
  },
  {
   "cell_type": "code",
   "execution_count": 27,
   "metadata": {},
   "outputs": [
    {
     "name": "stdout",
     "output_type": "stream",
     "text": [
      "Adam, you are Underweight\n"
     ]
    }
   ],
   "source": [
    "if BMI>0:\n",
    "    if BMI<18.5:\n",
    "        print(name + ', you are Underweight')\n",
    "    elif BMI<=24.9:\n",
    "        print(name + ', you are Normal Weight!')\n",
    "    elif BMI<=29.9:\n",
    "        print(name + ', you are Overweight')\n",
    "    elif BMI<=34.9:\n",
    "        print(name + ', you are Obese')\n",
    "    elif (BMI<=39.9):\n",
    "        print(name + \", you are severely obese.\")\n",
    "    else:\n",
    "        print(name + \", you are morbidly obese.\")\n",
    "else:\n",
    "    print(\"Enter valid input\")"
   ]
  },
  {
   "cell_type": "code",
   "execution_count": 32,
   "metadata": {},
   "outputs": [
    {
     "name": "stdout",
     "output_type": "stream",
     "text": [
      "1.8495530081344465\n",
      "Adam, your BMI is 1.85. You are underweight\n"
     ]
    }
   ],
   "source": [
    "# Another way of doing\n",
    "\n",
    "ref_table = [ {   0.0 : \"a feather\" },\n",
    "              {  18.5 : \"underweight\" }, \n",
    "              {  24.9 : \"normal weight\" },\n",
    "              {  29.9 : \"overweight\" },\n",
    "              {  39.4 : \"obese\" },\n",
    "              {  39.9 : \"severely obeese\" },\n",
    "              {  99.9 : \"morbidly obese\" },\n",
    "              { 999.9 : \"life-threatening obese\" }\n",
    "            ]\n",
    "\n",
    "name   = input(\"Enter your name: \")\n",
    "weight = int(input(\"Enter your weight in kg: \"))\n",
    "height = int(input(\"Enter your height in cm: \"))\n",
    "BMI = (weight * 703) / (height * height)\n",
    "print(BMI)\n",
    "\n",
    "for pos in range(len(ref_table)):\n",
    "    if ( BMI >= list(ref_table[pos].keys())[0] and BMI < list(ref_table[pos+1].keys())[0] ):\n",
    "        print(name +  \", your BMI is \" + str(round(BMI, 2)) + \". You are \" + list(ref_table[pos+1].values())[0])"
   ]
  },
  {
   "cell_type": "code",
   "execution_count": null,
   "metadata": {},
   "outputs": [],
   "source": []
  }
 ],
 "metadata": {
  "kernelspec": {
   "display_name": "Python 3",
   "language": "python",
   "name": "python3"
  },
  "language_info": {
   "codemirror_mode": {
    "name": "ipython",
    "version": 3
   },
   "file_extension": ".py",
   "mimetype": "text/x-python",
   "name": "python",
   "nbconvert_exporter": "python",
   "pygments_lexer": "ipython3",
   "version": "3.12.1"
  }
 },
 "nbformat": 4,
 "nbformat_minor": 2
}
